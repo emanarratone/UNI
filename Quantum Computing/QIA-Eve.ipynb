{
 "cells": [
  {
   "cell_type": "markdown",
   "id": "05875a46",
   "metadata": {},
   "source": [
    "##### Emanuele Anarratone 20050533\n",
    "# Quantum Identity Authentication\n",
    "## Simulazione del protocollo con intercettazione al mittente\n",
    "### 1.Introduzione\n",
    "\n",
    "Questo report analizza il comportamento del protocollo di Quantum Identity Authentication (QIA) in presenza di un attacco da parte di un intercettatore, identificato come Eve, posizionato sul canale del mittente.\n",
    "L’attacco consiste nell’intercettazione e misurazione dello stato quantistico inviato da Alice, prima che questo raggiunga Bob.  \n",
    "Successivamente, Eve tenta di riprodurre uno stato quantistico simile (ma non identico, a causa del principio di **no-cloning**) e lo invia a Bob, cercando così di impersonare Alice e accedere al canale di comunicazione autenticato.\n",
    "Lo scopo di questa simulazione è verificare se il protocollo QIA è in grado di rilevare l'intercettazione tramite il degrado della correlazione tra i risultati di Alice e Bob"
   ]
  },
  {
   "cell_type": "code",
   "execution_count": 2,
   "id": "f887a072",
   "metadata": {},
   "outputs": [],
   "source": [
    "from qiskit import QuantumCircuit, transpile\n",
    "from qiskit_ibm_runtime import QiskitRuntimeService, Sampler, Session\n",
    "from qiskit_aer import AerSimulator\n",
    "\n",
    "import random, hmac, hashlib"
   ]
  },
  {
   "cell_type": "code",
   "execution_count": null,
   "id": "8759ef5c",
   "metadata": {},
   "outputs": [
    {
     "name": "stderr",
     "output_type": "stream",
     "text": [
      "C:\\Users\\Emanuele\\AppData\\Local\\Temp\\ipykernel_8716\\2930734499.py:7: DeprecationWarning: The \"ibm_quantum\" channel option is deprecated and will be sunset on 1 July. After this date, \"ibm_cloud\", \"ibm_quantum_platform\", and \"local\" will be the only valid channels. Open Plan users should migrate now.  All other users should review the migration guide (https://quantum.cloud.ibm.com/docs/migration-guides/classic-iqp-to-cloud-iqp)to learn when to migrate.\n",
      "  service = QiskitRuntimeService()\n"
     ]
    }
   ],
   "source": [
    "QiskitRuntimeService.save_account(\n",
    "    channel=\"ibm_quantum\",\n",
    "    token=\"TOKEN\",\n",
    "    overwrite=True\n",
    ")\n",
    "\n",
    "service = QiskitRuntimeService()\n",
    "backend = service.backend(\"ibm_brisbane\")   #Inizializzazione del backend sulla macchina di Brisbane\n",
    "aer = AerSimulator.from_backend(backend)    #Inizializzazione del simulatore con backend di una macchina reale per simulazioni veloci con simulazione del rumore\n"
   ]
  },
  {
   "cell_type": "code",
   "execution_count": 5,
   "id": "56b06706",
   "metadata": {},
   "outputs": [],
   "source": [
    "# Funzione per HMAC classico\n",
    "def compute_hmac(key: bytes, message: str) -> str:\n",
    "    return hmac.new(key, message.encode(), hashlib.sha256).hexdigest()\n"
   ]
  },
  {
   "cell_type": "code",
   "execution_count": 6,
   "id": "48c44c0c",
   "metadata": {},
   "outputs": [],
   "source": [
    "rounds = 1000    \n",
    "threshold = 0.95\n",
    "\n",
    "alice_basis, bob_basis = [], []\n",
    "alice_results, bob_results = [], []\n",
    "eve_basis, eve_results = [], []\n",
    "circuits = []"
   ]
  },
  {
   "cell_type": "markdown",
   "id": "5d9fe343",
   "metadata": {},
   "source": [
    "### 2. Intercettazione\n",
    "\n",
    "Eve intercetta lo stato quantistico inviato da Alice ed effettua una misura.\n",
    "Per semplicità, la misurazione di Eve è stata simulata utilizzando il simulatore **Aer** di Qiskit, con l’aggiunta di rumore modellato a partire dal backend della macchina quantistica reale di Brisbane.\n",
    "A causa del principio di **collasso della funzione d’onda**, la misurazione di Eve proietta lo stato in uno dei possibili quattro risultati, distruggendo l’informazione quantistica originaria.\n",
    "\n",
    "Per continuare la comunicazione con Bob, Eve deve preparare un nuovo stato quantistico da inviare, cercando di replicare quello che avrebbe dovuto ricevere da Alice. Tuttavia, a causa della natura degli **stati entangled**, i risultati delle misure tra le parti non saranno più fortemente correlati come in una comunicazione non intercettata, portando all’**invalidazione dell’autenticazione** da parte del server.\n",
    "\n",
    "> **Nota**: a fini dimostrativi, ogni ciclo della simulazione rappresenta sia le operazioni svolte da Eve che la successiva comunicazione tra Alice e Bob.  \n",
    "In particolare:\n",
    "> - Il circuito `qc` rappresenta lo stato originale, **interrotto** dalla misura di Eve, ed è eseguito tramite simulazione con Aer.  \n",
    "> - Il circuito `qc2` rappresenta il nuovo stato preparato da Eve e inviato a Bob, ed è **eseguito sulla macchina quantistica reale** tramite il `Sampler`."
   ]
  },
  {
   "cell_type": "code",
   "execution_count": 7,
   "id": "72d5c7db",
   "metadata": {},
   "outputs": [],
   "source": [
    "for i in range(rounds):\n",
    "    qc = QuantumCircuit(2, 2)\n",
    "    qc.h(0)\n",
    "    qc.cx(0, 1)\n",
    "\n",
    "    alice_b = random.choice(['Z', 'X'])\n",
    "    eve_b = random.choice(['Z', 'X'])\n",
    "    bob_b = random.choice(['Z', 'X'])\n",
    "\n",
    "    if alice_b == 'X':      \n",
    "        qc.h(0)\n",
    "\n",
    "\n",
    "    if eve_b == 'X':\n",
    "        qc.h(1)\n",
    "    \n",
    "    qc.measure(0, 0)\n",
    "    qc.measure(1, 1)\n",
    "\n",
    "    tqc = transpile(qc, backend=backend)\n",
    "    res = aer.run(tqc, shots=1).result().get_counts()\n",
    "    key = list(res.keys())[0]\n",
    "    alice_bit = int(key[-1])  # bit di Alice (registro classico 0)\n",
    "    eve_bit = int(key[0])     # bit di Eve   (registro classico 1)\n",
    "\n",
    "\n",
    "    # Eve prepara secondo la sua base e risultato\n",
    "    qc2 = QuantumCircuit(2, 2)\n",
    "    if eve_b == 'Z':\n",
    "        if eve_bit == 1:\n",
    "            qc2.x(0)\n",
    "        # else: lascia |0>\n",
    "    else:  # X\n",
    "        qc2.h(0)\n",
    "        if eve_bit == 1:\n",
    "            qc2.x(0)\n",
    "        qc2.h(0)\n",
    "\n",
    "    # Bob misura il qubit nella sua base\n",
    "\n",
    "    if bob_b == 'X':\n",
    "        qc2.h(1)\n",
    "\n",
    "    qc2.measure(1, 1)\n",
    "    circuits.append(qc2)    #La vera misura per il canale viene fatta sulla comunicazione a Bob\n",
    "    alice_basis.append(alice_b)\n",
    "    bob_basis.append(bob_b)\n",
    "    eve_basis.append(eve_b)"
   ]
  },
  {
   "cell_type": "code",
   "execution_count": 8,
   "id": "5e6cd509",
   "metadata": {},
   "outputs": [
    {
     "name": "stderr",
     "output_type": "stream",
     "text": [
      "base_primitive._get_mode_service_backend:WARNING:2025-06-11 23:32:28,291: A backend was passed in as the mode but a session context manager is open so this job will run inside this session/batch instead of in job mode.\n",
      "c:\\Users\\Emanuele\\miniconda3\\envs\\qc\\Lib\\site-packages\\qiskit_ibm_runtime\\qiskit_runtime_service.py:1129: UserWarning: IBM Quantum Platform is moving, and this version will be sunset on July 1. To get started on the new platform, read the migration guide at https://docs.quantum.ibm.com/migration-guides/classic-iqp-to-cloud-iqp\n",
      "  warnings.warn(warning_message)\n"
     ]
    }
   ],
   "source": [
    "with Session(backend=backend) as session:\n",
    "    sampler = Sampler(mode=backend)\n",
    "    t_circuits = transpile(circuits, backend=backend)\n",
    "    job = sampler.run(t_circuits, shots=1)\n",
    "    results = job.result()\n",
    "\n",
    "    for i, bitarray in enumerate(results._pub_results):\n",
    "        bitstring = bitarray.data.c.get_bitstrings()[0]\n",
    "        alice_results.append(bitstring[0])\n",
    "        bob_results.append(bitstring[1])\n",
    "        # Eve \"misura\" lo stesso bit che Alice\n",
    "        eve_results.append(bitstring[0])"
   ]
  },
  {
   "cell_type": "markdown",
   "id": "21c31ce6",
   "metadata": {},
   "source": [
    "### 3. Autenticazione\n",
    "Nel presente esempio viene simulato lo scenario in cui Eve tenta di autenticarsi presso il server utilizzando il messaggio intercettato da Alice per generare un HMAC valido.\n",
    "Tuttavia, nel protocollo QIA, il superamento della verifica delle firme (HMAC) **non è sufficiente** per ottenere l’accesso al canale autenticato: è necessaria anche una **forte correlazione** tra i risultati delle misurazioni di Alice e Bob, entro i limiti imposti dal valore di soglia `threshold`.\n",
    "Poiché Eve ha alterato lo stato quantistico originale con la propria misura e successiva ricostruzione, la correlazione tra le misure risulterà degradata, causando il **fallimento dell'autenticazione** nonostante l’HMAC possa essere formalmente corretto."
   ]
  },
  {
   "cell_type": "code",
   "execution_count": 9,
   "id": "c778bb88",
   "metadata": {},
   "outputs": [],
   "source": [
    "K_A = b'chiavealice'\n",
    "K_B = b'chiavedibob'\n",
    "K_E = b'chiavealice'   #Eve usa la chiave di Alice per autenticarsi\n",
    "\n",
    "\n",
    "msg_A = ''.join(alice_basis) + ''.join(alice_results)\n",
    "msg_B = ''.join(bob_basis) + ''.join(bob_results)\n",
    "msg_E = ''.join(alice_basis) + ''.join(alice_results)  # Eve usa i dati di Alice per autenticarsi\n",
    "\n",
    "hmac_A = compute_hmac(K_A, msg_A)\n",
    "hmac_B = compute_hmac(K_B, msg_B)\n",
    "hmac_E = compute_hmac(K_E, msg_E)"
   ]
  },
  {
   "cell_type": "markdown",
   "id": "8a6cd671",
   "metadata": {},
   "source": [
    "### 4. Server\n",
    "Con un numero elevato di `rounds`, necessario per ottenere una maggiore precisione statistica, ci si aspetta che la **correlazione tra i risultati** successiva a un'intercettazione da parte di Eve sia mediamente intorno al **75%**.\n",
    "Di conseguenza, Eve **non riuscirà ad autenticarsi** al canale nei panni di Alice, in quanto la soglia `threshold` richiesta per l’autenticazione (in questo caso ≥ 95%) non verrà raggiunta.\n",
    "Inoltre, poiché la misurazione eseguita da Eve **collassa lo stato quantistico originale**, anche la correlazione tra Alice e Bob risulterà degradata e si attesterà su valori simili (≈75%).  \n",
    "Questo permette al server di **rilevare l’intercettazione** e invalidare la comunicazione, garantendo così la sicurezza del canale quantistico."
   ]
  },
  {
   "cell_type": "code",
   "execution_count": 11,
   "id": "08ddad9e",
   "metadata": {},
   "outputs": [
    {
     "name": "stdout",
     "output_type": "stream",
     "text": [
      "\n",
      "HMAC Alice: 65eb32ae9b9179ba10acdaa0909292748651c9facb51a4c3e1f3f65c011e24c7\n",
      "HMAC Bob:   f4bc16a4856ca840e1e7af2d9c13e28d130530949c8001918b12554a6e42beb5\n",
      "HMAC Eve:   65eb32ae9b9179ba10acdaa0909292748651c9facb51a4c3e1f3f65c011e24c7\n",
      "HMAC Alice valido: True\n",
      "HMAC Bob valido:   True\n",
      "HMAC Eve valido:   True\n",
      "\n",
      "Bits usati (Alice-Bob): 469\n",
      "Coincidenze Alice-Bob: 336\n",
      "Match % Alice-Bob: 71.64%\n",
      "\n",
      "Bits usati (Eve-Bob): 493\n",
      "Coincidenze Eve-Bob: 365\n",
      "Match % Eve-Bob: 74.04%\n",
      "\n",
      "Autenticazione Alice-bob non riuscita\n",
      "Autenticazione Eve-Bob non riuscita\n",
      "\n"
     ]
    }
   ],
   "source": [
    "valid_A = (compute_hmac(K_A, msg_A) == hmac_A)\n",
    "valid_B = (compute_hmac(K_B, msg_B) == hmac_B)\n",
    "valid_E = (compute_hmac(K_E, msg_E) == hmac_A) #Eve vuole autenticarsi come alice\n",
    "\n",
    "used_ab, matches_ab = 0, 0\n",
    "used_eb, matches_eb = 0, 0\n",
    "\n",
    "for a_b, b_b, a_r, b_r, e_b, e_r in zip(alice_basis, bob_basis, alice_results, bob_results, eve_basis, eve_results):\n",
    "    # Alice-Bob\n",
    "    if a_b == b_b:\n",
    "        used_ab += 1\n",
    "        if a_r == b_r:\n",
    "            matches_ab += 1\n",
    "    # Eve-Bob\n",
    "    if e_b == b_b:\n",
    "        used_eb += 1\n",
    "        if e_r == b_r:\n",
    "            matches_eb += 1\n",
    "\n",
    "match_ratio_ab = matches_ab / used_ab if used_ab else 0\n",
    "match_ratio_eb = matches_eb / used_eb if used_eb else 0\n",
    "authenticated = valid_A and valid_B and match_ratio_ab >= threshold\n",
    "authenticated_eb = valid_E and valid_B and match_ratio_eb >= threshold\n",
    "\n",
    "\n",
    "output = f\"\"\"\n",
    "HMAC Alice: {hmac_A}\n",
    "HMAC Bob:   {hmac_B}\n",
    "HMAC Eve:   {hmac_E}\n",
    "HMAC Alice valido: {valid_A}\n",
    "HMAC Bob valido:   {valid_B}\n",
    "HMAC Eve valido:   {valid_E}\n",
    "\n",
    "Bits usati (Alice-Bob): {used_ab}\n",
    "Coincidenze Alice-Bob: {matches_ab}\n",
    "Match % Alice-Bob: {match_ratio_ab*100:.2f}%\n",
    "\n",
    "Bits usati (Eve-Bob): {used_eb}\n",
    "Coincidenze Eve-Bob: {matches_eb}\n",
    "Match % Eve-Bob: {match_ratio_eb*100:.2f}%\n",
    "\n",
    "Autenticazione Alice-bob {\"riuscita\" if authenticated else \"non riuscita\"}\n",
    "Autenticazione Eve-Bob {\"riuscita\" if authenticated_eb else \"non riuscita\"}\n",
    "\"\"\"\n",
    "\n",
    "print(output)"
   ]
  },
  {
   "cell_type": "markdown",
   "id": "e03b4f53",
   "metadata": {},
   "source": [
    "### 5. Analisi dell'output - Conclusioni\n",
    "\n",
    "Nel caso in cui Eve intercetti il messaggio inviato da Alice, essa ottiene anche le basi di misura e i relativi risultati, diventando così in grado di calcolare un HMAC valido. Il server, ricevendo l’HMAC generato da Eve, lo considera coerente con quello atteso per Alice e autorizza la comunicazione, ritenendola legittima. Questo rappresenta lo scenario peggiore per la sicurezza del protocollo, poiché l’intercettazione avviene senza che Bob o il server possano rilevarla. È proprio per prevenire questo tipo di attacchi che si ricorre all’uso delle coppie di stati entangled, le quali rendono le misurazioni non replicabili da un attaccante esterno.\n",
    "Nel contesto sperimentale considerato, è stata analizzata una comunicazione originale tra Alice e Bob e una seconda comunicazione intercettata tra Eve e Bob. Nella prima, vengono utilizzati 469 bit per il confronto, dei quali 336 risultano coincidenti, con un tasso di corrispondenza del 71,64%, insufficiente per superare la soglia di autenticazione. Poiché Alice e Bob si fidano reciprocamente, un risultato inferiore alla soglia rappresenta un chiaro indicatore dell’intercettazione della comunicazione.\n",
    "Nella comunicazione intercettata, invece, vengono utilizzati 493 bit, con 365 coincidenze. Poiché Eve non è parte del processo entangled, ogni tentativo di misurazione corrisponde a un’estrazione casuale, con una probabilità del 50% di ottenere un risultato errato. Di conseguenza, il tasso di corrispondenza si mantiene attorno al 75%, confermando l’aspettativa teorica. Questo comportamento evidenzia come, in presenza di un attacco man-in-the-middle, l’uso di coppie entangled garantisca un riconoscimento affidabile tra le parti e permetta di identificare comunicazioni compromesse anche su un canale insicuro."
   ]
  }
 ],
 "metadata": {
  "kernelspec": {
   "display_name": "qc",
   "language": "python",
   "name": "python3"
  },
  "language_info": {
   "codemirror_mode": {
    "name": "ipython",
    "version": 3
   },
   "file_extension": ".py",
   "mimetype": "text/x-python",
   "name": "python",
   "nbconvert_exporter": "python",
   "pygments_lexer": "ipython3",
   "version": "3.13.4"
  }
 },
 "nbformat": 4,
 "nbformat_minor": 5
}
