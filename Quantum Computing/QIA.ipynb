{
 "cells": [
  {
   "cell_type": "markdown",
   "id": "4b2b72e6",
   "metadata": {},
   "source": [
    "##### Emanuele Anarratone 20050533\n",
    "# Quantum Identity Authentication\n",
    "## Autenticazione su un canale quantistico per comunicare\n",
    "### 1. Introduzione\n",
    "\n",
    "La QKD (Quantum Key Distribution) è un protocollo di crittografia quantistica che consente di comunicare chiavi tra due entità su un canale non sicuro.\n",
    "I diversi protocolli esistenti di QKD utilizzano la meccanica quantistica per garantire che la trasmissione non venga intercettata tramite l'utilizzo di una coppia di stati EPR (Einstein-Podolsky-Rosen) o stati di Bell la cui misura è correlata solo tra mittente e destinatario reale della comunicazione. \n",
    "Se si verifica un'attacco di tipo MITM (Man-In-The-Middle) la misurazione eseguita dall'attaccante distrugge/consuma l'informazione originale, rendendo le coppie di stati **entangled** tra mittente e destinatario disallineate: in questo modo è possibile verificare la presenza di intercettazioni sul canale.\n",
    "La QIA (Quantum Identity Authentication) è un protocollo che sfrutta gli stati EPR per autenticare le parti coinvolte attraverso firme quantistiche e chiavi di sicurezza definite a priori, al fine di stabilire un canale quantistico autenticato per la successiva comunicazione.\n",
    "\n",
    "### 2. Panoramica preliminare\n",
    "\n",
    "La QIA realizzata in questo progetto utilizza gli stati entangled con le successive basi e misurazioni per codificare un HMAC (Hash-based Message Authentication Code) il quale consiste in  un codice di autenticazione del messaggio basato su una funzione di hash crittografica (in questo esempio utilizzerò SHA-256) e una chiave segreta condivisa tra le parti.\n",
    "\n",
    "Inizialmente, Alice e Bob condividono il canale, per poter comunicare devono prima autenticarsi.\n",
    "Sia dato per ipotesi un server esterno (il cui comportamento è semplificato in questo progetto a fini d'esempio) il quale apre la connessione iniziale per sincronizzare gli stati di Alice e Bob.\n"
   ]
  },
  {
   "cell_type": "code",
   "execution_count": null,
   "id": "58d36eab",
   "metadata": {},
   "outputs": [],
   "source": [
    "from qiskit import QuantumCircuit, transpile                                \n",
    "from qiskit_ibm_runtime import QiskitRuntimeService, Sampler, Session       \n",
    "\n",
    "import random, hmac, hashlib"
   ]
  },
  {
   "cell_type": "code",
   "execution_count": null,
   "id": "4e83ea25",
   "metadata": {},
   "outputs": [
    {
     "name": "stderr",
     "output_type": "stream",
     "text": [
      "C:\\Users\\Emanuele\\AppData\\Local\\Temp\\ipykernel_14596\\2435420910.py:7: DeprecationWarning: The \"ibm_quantum\" channel option is deprecated and will be sunset on 1 July. After this date, \"ibm_cloud\", \"ibm_quantum_platform\", and \"local\" will be the only valid channels. Open Plan users should migrate now.  All other users should review the migration guide (https://quantum.cloud.ibm.com/docs/migration-guides/classic-iqp-to-cloud-iqp)to learn when to migrate.\n",
      "  service = QiskitRuntimeService()\n"
     ]
    }
   ],
   "source": [
    "QiskitRuntimeService.save_account(\n",
    "    channel=\"ibm_quantum\",\n",
    "    token=\"TOKEN\",\n",
    "    overwrite=True\n",
    ")\n",
    "\n",
    "service = QiskitRuntimeService()\n",
    "backend = service.backend(\"ibm_brisbane\")  #Inizializzazione del backend sulla macchina di Brisbane\n"
   ]
  },
  {
   "cell_type": "code",
   "execution_count": 6,
   "id": "55d44b26",
   "metadata": {},
   "outputs": [],
   "source": [
    "# Funzione per HMAC \n",
    "def compute_hmac(key: bytes, message: str) -> str:\n",
    "    return hmac.new(key, message.encode(), hashlib.sha256).hexdigest()\n"
   ]
  },
  {
   "cell_type": "markdown",
   "id": "e0a1accc",
   "metadata": {},
   "source": [
    "### 3. Scelta della tolleranza e precisione\n",
    "\n",
    "L'algoritmo genera un numero `rounds` di stati entangled; un valore sufficientemente elevato di `rounds` garantisce una maggiore precisione, a scapito di un maggiore costo computazionale.\n",
    "Al termine delle misurazioni, il server riceve le firme di Alice e Bob. Il parametro `threshold` rappresenta il limite di tolleranza oltre il quale è possibile considerare l'autenticazione riuscita; valori inferiori a `threshold` comportano la negazione dell'accesso al canale.\n",
    "La scelta di un valore adeguato per `threshold` deve tenere conto principalmente della tolleranza all’errore dei singoli qubit utilizzati. La macchina **Brisbane**, ad esempio, presenta una tolleranza media (dall'ultima calibrazione effettuata) pari a `1.85e-2`.\n",
    "Con un numero sufficientemente alto di `rounds`, un valore di `threshold = 0.95` può essere considerato accettabile, considerando che in condizioni ottimali il tasso di correttezza misurato è solitamente superiore al 98%.\n"
   ]
  },
  {
   "cell_type": "code",
   "execution_count": 7,
   "id": "ccb7bc7c",
   "metadata": {},
   "outputs": [],
   "source": [
    "rounds = 1000\n",
    "threshold = 0.95\n",
    "\n",
    "alice_basis, bob_basis = [], []\n",
    "alice_results, bob_results = [], []\n",
    "circuits = []   #Per memorizzare i circuiti ed eseguire il sampling in un'unica chiamata"
   ]
  },
  {
   "cell_type": "markdown",
   "id": "f1268654",
   "metadata": {},
   "source": [
    "### 4. Circuito\n",
    "\n",
    "L'applicazione delle porte **Hadamard (H)** e **CNOT** a un circuito a due qubit genera uno **stato di Bell**, ovvero uno stato entangled.\n",
    "Alice e Bob scelgono casualmente la **base di misura** da utilizzare: la base Z (computazionale) oppure la base X (ottenuta tramite trasformazione di Hadamard).\n",
    "Successivamente, viene eseguita la misura e vengono salvati:\n",
    "- le basi utilizzate, che verranno impiegate per la generazione dell'HMAC;\n",
    "- il circuito eseguito, da fornire al `sampler` per ottenere i risultati delle misurazioni.\n",
    "\n",
    "Il procedimento è similare a quello per la QKD: \n",
    "- Alice ha un messaggio (es. `10111010101101010`) e sceglie **casualmente** le basi che utilizzerà (es. `XZZZXZXXXZXZXXXZZZXZ`)\n",
    "- Alice dopodichè codifica messaggio e basi e ottiene una serie di qubit (es. `|1>|1>|+>|0>|->|0>|->|0>|->|1>|+>|->|+>|1>|+>|0>`) che invierà a Bob\n",
    "- Bob riceve i qubit e decide le basi con cui misurare (es. `XZZZXZXZXZXZZZXZ`)\n",
    "\n",
    "Se Alice e Bob per **lo stesso Qubit** utilizzano **la stessa base** avranno risultati correlati, quando lo stato è entangled e le parti sono autentiche la correlazione è sicura (>98%)"
   ]
  },
  {
   "cell_type": "code",
   "execution_count": 8,
   "id": "7dcfd654",
   "metadata": {},
   "outputs": [],
   "source": [
    "for i in range(rounds):\n",
    "    qc = QuantumCircuit(2, 2)\n",
    "    qc.h(0)\n",
    "    qc.cx(0, 1)\n",
    "\n",
    "    alice_b = random.choice(['Z', 'X'])\n",
    "    bob_b = random.choice(['Z', 'X'])\n",
    "\n",
    "    if alice_b == 'X':  #Applicazione Hadamard di Alice\n",
    "        qc.h(0)\n",
    "    \n",
    "    if bob_b == 'X':    #Applicazione Hadamard di Bob\n",
    "        qc.h(1)\n",
    "    \n",
    "    qc.measure([0, 1], [0, 1])  \n",
    "    circuits.append(qc)         \n",
    "    alice_basis.append(alice_b)     \n",
    "    bob_basis.append(bob_b)     #Le basi di Alice e Bob vengono salvate per il calcolo dell'HMAC\n"
   ]
  },
  {
   "cell_type": "markdown",
   "id": "9cd7ea0f",
   "metadata": {},
   "source": [
    "### 5. Esecuzione\n",
    "\n",
    "Su una macchina reale, come quella di Brisbane, i risultati vengono restituiti come distribuzioni di probabilità, le quali convergono (con quasi certezza matematica) verso un determinato valore atteso in fase di misurazione.\n",
    "\n",
    "Attraverso un ciclo `for`, vengono estratte le **rounds** misurazioni contenute in `results._pub_results` e trasformate in bitstring, così da poter accedere ai singoli bit relativi alle misurazioni effettuate da Alice e Bob.\n",
    "\n",
    "> **Nota**: l'utilizzo di `_pub_results` non è formalmente corretto, in quanto si tratta di un attributo **privato** della classe `SamplerPubResult`. Il metodo pubblico `quasi_dists[]` è quello ufficialmente previsto per accedere ai dati, ma al momento dello sviluppo, a causa di **deprecazioni delle API**, il suo utilizzo ha causato diversi problemi tecnici, impedendone l'adozione.\n"
   ]
  },
  {
   "cell_type": "code",
   "execution_count": 9,
   "id": "3564e121",
   "metadata": {},
   "outputs": [
    {
     "name": "stderr",
     "output_type": "stream",
     "text": [
      "base_primitive._get_mode_service_backend:WARNING:2025-06-11 17:09:50,801: A backend was passed in as the mode but a session context manager is open so this job will run inside this session/batch instead of in job mode.\n",
      "c:\\Users\\Emanuele\\miniconda3\\envs\\qc\\Lib\\site-packages\\qiskit_ibm_runtime\\qiskit_runtime_service.py:1129: UserWarning: IBM Quantum Platform is moving, and this version will be sunset on July 1. To get started on the new platform, read the migration guide at https://docs.quantum.ibm.com/migration-guides/classic-iqp-to-cloud-iqp\n",
      "  warnings.warn(warning_message)\n"
     ]
    }
   ],
   "source": [
    "with Session(backend=backend) as session:\n",
    "    sampler = Sampler(mode=backend)\n",
    "    t_circuits = transpile(circuits, backend=backend)\n",
    "    job = sampler.run(t_circuits, shots=1)\n",
    "    results = job.result()\n",
    "\n",
    "    for i, bitarray in enumerate(results._pub_results):\n",
    "        bitstring = bitarray.data.c.get_bitstrings()[0]\n",
    "        alice_results.append(bitstring[0])\n",
    "        bob_results.append(bitstring[1])"
   ]
  },
  {
   "cell_type": "markdown",
   "id": "590be344",
   "metadata": {},
   "source": [
    "### 6. Invio delle firme\n",
    "\n",
    "Dopo l’esecuzione delle misurazioni e la computazione dei risultati, questi vengono inviati al server per poter accedere al canale autenticato.\n",
    "\n",
    "Alice e Bob generano ciascuno il proprio **HMAC** calcolato su un messaggio che include:\n",
    "- i risultati delle misurazioni,\n",
    "- le basi utilizzate per la misura,\n",
    "- e la chiave segreta assegnata loro in fase di inizializzazione.\n",
    "\n",
    "Il server utilizzerà questi HMAC per verificare l'autenticità delle parti e autorizzare l'accesso al canale solo se le firme risultano valide.\n"
   ]
  },
  {
   "cell_type": "code",
   "execution_count": 10,
   "id": "f32934e6",
   "metadata": {},
   "outputs": [],
   "source": [
    "K_A = b'chiavedicomunicazione' #semplificazioni d'esempio, possono essere diverse tra loro o randomizzate (OTP)\n",
    "K_B = b'chiavedicomunicazione'\n",
    "\n",
    "\n",
    "msg_A = ''.join(alice_basis) + ''.join(alice_results)\n",
    "msg_B = ''.join(bob_basis) + ''.join(bob_results)\n",
    "hmac_A = compute_hmac(K_A, msg_A)\n",
    "hmac_B = compute_hmac(K_B, msg_B)\n",
    "#L'invio dei messaggi e degli HMAC non è implementato in questo esempio, ma dovrebbe essere fatto in un canale affidabile"
   ]
  },
  {
   "cell_type": "markdown",
   "id": "460c09ab",
   "metadata": {},
   "source": [
    "### 7. Server\n",
    "\n",
    "Il server riceve le firme (HMAC) da Alice e Bob e ne verifica la validità confrontandole con quelle attese, calcolate localmente sulla base dei dati ricevuti e delle chiavi segrete assegnate.\n",
    "\n",
    "Successivamente, verifica la **correlazione** tra le misurazioni effettuate da Alice e Bob.  \n",
    "Se la percentuale di corrispondenza supera o equivale al valore soglia definito da `threshold`, l’autenticazione viene considerata riuscita e l’accesso al canale viene autorizzato.  \n",
    "In caso contrario, la connessione viene rifiutata.\n",
    "In questo modo, è possibile quindi definire un protocollo per l'autenticazione ad un canale quantistico tramite l'utilizzo di firme quantistiche e degli stati entangled condivisi per aprire una connessione.\n"
   ]
  },
  {
   "cell_type": "code",
   "execution_count": null,
   "id": "b775ff4a",
   "metadata": {},
   "outputs": [
    {
     "name": "stdout",
     "output_type": "stream",
     "text": [
      "\n",
      "      \"Bits usati: 474\n",
      "        Coincidenze: 465\n",
      "        Match %: 98.10%\n",
      "        HMAC Alice valido: True\n",
      "        HMAC Bob valido: True\n",
      "        Autenticazione riuscita\n",
      "      \n"
     ]
    }
   ],
   "source": [
    "valid_A = (compute_hmac(K_A, msg_A) == hmac_A)\n",
    "valid_B = (compute_hmac(K_B, msg_B) == hmac_B)\n",
    "\n",
    "used, matches = 0, 0\n",
    "for a_b, b_b, a_r, b_r in zip(alice_basis, bob_basis, alice_results, bob_results):\n",
    "    if a_b == b_b:\n",
    "        used += 1\n",
    "        if a_r == b_r:\n",
    "            matches += 1\n",
    "\n",
    "match_ratio = matches / used if used else 0\n",
    "authenticated = valid_A and valid_B and match_ratio >= threshold\n",
    "\n",
    "print(f\"\"\"\n",
    "        Bits usati: {used}\n",
    "        Coincidenze: {matches}\n",
    "        Match %: {match_ratio*100:.2f}%\n",
    "        HMAC Alice valido: {valid_A}\n",
    "        HMAC Bob valido: {valid_B}\n",
    "        Autenticazione {\"riuscita\" if authenticated else \"non riuscita\"}\n",
    "      \"\"\"\n",
    "      )\n"
   ]
  },
  {
   "cell_type": "markdown",
   "id": "cc4c3620",
   "metadata": {},
   "source": [
    "### 8. Analisi dell'output – Conclusioni\n",
    "Dall’output ottenuto si osserva che, su 1000 round, 474 vengono effettivamente utilizzati. Questo è dovuto al fatto che Alice e Bob hanno una probabilità del 50% di scegliere la stessa base per la misurazione; ci si aspetta quindi che i bit utilizzati siano distribuiti secondo una distribuzione binomiale con valore atteso pari al 50% del totale.\n",
    "Dei 474 bit utilizzati, 465 risultano coincidenti. Le discrepanze sono attribuibili all’esecuzione del programma su una macchina reale, dove errori casuali dovuti a rumore o interferenze quantistiche possono causare discrepanze nei bit misurati. Una scelta oculata del parametro threshold consente comunque di accettare l’autenticazione anche in presenza di un numero contenuto di errori.\n",
    "Poiché gli HMAC di Alice e Bob risultano validi e i loro risultati coincidono nel 98% dei casi, si conclude che l’autenticazione è avvenuta con successo, e che Alice e Bob possono procedere a comunicare in sicurezza attraverso il canale.\n"
   ]
  }
 ],
 "metadata": {
  "kernelspec": {
   "display_name": "qc",
   "language": "python",
   "name": "python3"
  },
  "language_info": {
   "codemirror_mode": {
    "name": "ipython",
    "version": 3
   },
   "file_extension": ".py",
   "mimetype": "text/x-python",
   "name": "python",
   "nbconvert_exporter": "python",
   "pygments_lexer": "ipython3",
   "version": "3.13.4"
  }
 },
 "nbformat": 4,
 "nbformat_minor": 5
}
